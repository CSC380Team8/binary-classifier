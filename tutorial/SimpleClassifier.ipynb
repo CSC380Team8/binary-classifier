{
 "cells": [
  {
   "cell_type": "markdown",
   "metadata": {},
   "source": [
    "## Classifying Data\n",
    "Data can be classified using the SimpleClassifier module. The list of time, light observation tuples can be passed into the `classify_simple()` function to yield a classification.\n",
    "\n",
    "A result of `True` indicates that the observations appear to represent a transient, and a `False` value indicates that the observations appear to represent a non-transient."
   ]
  },
  {
   "cell_type": "code",
   "execution_count": 1,
   "metadata": {
    "collapsed": false
   },
   "outputs": [
    {
     "data": {
      "text/plain": [
       "True"
      ]
     },
     "execution_count": 1,
     "metadata": {},
     "output_type": "execute_result"
    }
   ],
   "source": [
    "from binaryclassifier import SimpleClassifier\n",
    "\n",
    "transient = [(0, 5), (1, 7), (2, 4)]\n",
    "SimpleClassifier.classify_simple(transient)"
   ]
  },
  {
   "cell_type": "code",
   "execution_count": 2,
   "metadata": {
    "collapsed": false
   },
   "outputs": [
    {
     "data": {
      "text/plain": [
       "False"
      ]
     },
     "execution_count": 2,
     "metadata": {},
     "output_type": "execute_result"
    }
   ],
   "source": [
    "from binaryclassifier import SimpleClassifier\n",
    "\n",
    "non_transient = [(0, 5), (1, 5.02), (2, 4.97)]\n",
    "SimpleClassifier.classify_simple(non_transient)"
   ]
  },
  {
   "cell_type": "markdown",
   "metadata": {},
   "source": [
    "## Classifying Generated Data\n",
    "In order to generate test data you should use the EmulatorMain module. The generated observations can then be passed into the `classify_simple()` function."
   ]
  },
  {
   "cell_type": "code",
   "execution_count": 3,
   "metadata": {
    "collapsed": false
   },
   "outputs": [
    {
     "data": {
      "text/plain": [
       "True"
      ]
     },
     "execution_count": 3,
     "metadata": {},
     "output_type": "execute_result"
    }
   ],
   "source": [
    "from binaryclassifier import EmulatorMain\n",
    "from binaryclassifier import SimpleClassifier\n",
    "\n",
    "em = EmulatorMain.EmulatorMain()\n",
    "transient = em.generateSingleObject(True)\n",
    "SimpleClassifier.classify_simple(transient)"
   ]
  },
  {
   "cell_type": "code",
   "execution_count": 4,
   "metadata": {
    "collapsed": false
   },
   "outputs": [
    {
     "data": {
      "text/plain": [
       "False"
      ]
     },
     "execution_count": 4,
     "metadata": {},
     "output_type": "execute_result"
    }
   ],
   "source": [
    "from binaryclassifier import EmulatorMain\n",
    "from binaryclassifier import SimpleClassifier\n",
    "\n",
    "em = EmulatorMain.EmulatorMain()\n",
    "non_transient = em.generateSingleObject(False)\n",
    "SimpleClassifier.classify_simple(non_transient)"
   ]
  }
 ],
 "metadata": {
  "kernelspec": {
   "display_name": "Python 2",
   "language": "python",
   "name": "python2"
  },
  "language_info": {
   "codemirror_mode": {
    "name": "ipython",
    "version": 2
   },
   "file_extension": ".py",
   "mimetype": "text/x-python",
   "name": "python",
   "nbconvert_exporter": "python",
   "pygments_lexer": "ipython2",
   "version": "2.7.12"
  }
 },
 "nbformat": 4,
 "nbformat_minor": 1
}
