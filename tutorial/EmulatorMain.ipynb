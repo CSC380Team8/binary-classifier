{
 "cells": [
  {
   "cell_type": "markdown",
   "metadata": {},
   "source": [
    "## Setup\n",
    "In order for the following examples to work, you need to install the library by running the following command in the main directory:\n",
    "\n",
    "```\n",
    "$ python setup.py install\n",
    "```"
   ]
  },
  {
   "cell_type": "markdown",
   "metadata": {},
   "source": [
    "## Generating Test Data\n",
    "\n",
    "Test data can be generated using the EmulatorMain class. Using the `generateSingleObject` method, one can generate observation data of transients and non-transients.\n",
    "\n",
    "By passing in a value of `True` a transient is generated, while passing in `False` causes a non-transient to be generated. "
   ]
  },
  {
   "cell_type": "code",
   "execution_count": 1,
   "metadata": {
    "collapsed": false
   },
   "outputs": [
    {
     "data": {
      "text/plain": [
       "[Observation0(time=14078, light=64.03),\n",
       " Observation1(time=28156, light=74.99),\n",
       " Observation2(time=42234, light=85.95),\n",
       " Observation3(time=56312, light=97.05)]"
      ]
     },
     "execution_count": 1,
     "metadata": {},
     "output_type": "execute_result"
    }
   ],
   "source": [
    "from binaryclassifier import EmulatorMain\n",
    "\n",
    "em = EmulatorMain.EmulatorMain()\n",
    "em.generateSingleObject(True)"
   ]
  },
  {
   "cell_type": "code",
   "execution_count": 2,
   "metadata": {
    "collapsed": false
   },
   "outputs": [
    {
     "data": {
      "text/plain": [
       "[Observation0(time=10559, light=47.98),\n",
       " Observation1(time=21118, light=47.97),\n",
       " Observation2(time=31677, light=47.95),\n",
       " Observation3(time=42236, light=47.96),\n",
       " Observation4(time=52795, light=48.0),\n",
       " Observation5(time=63354, light=47.98),\n",
       " Observation6(time=73913, light=47.97),\n",
       " Observation7(time=84472, light=47.96)]"
      ]
     },
     "execution_count": 2,
     "metadata": {},
     "output_type": "execute_result"
    }
   ],
   "source": [
    "from binaryclassifier import EmulatorMain\n",
    "\n",
    "em = EmulatorMain.EmulatorMain()\n",
    "em.generateSingleObject(False)"
   ]
  },
  {
   "cell_type": "markdown",
   "metadata": {
    "collapsed": true
   },
   "source": [
    "## Observation Data Format\n",
    "\n",
    "The observation data returned by using the `generateSingleObject` method is formatted as a list of named tuples. Each tuple represents a single observation of the 'object'.\n",
    "\n",
    "Each observation tuple contains the time the observation was taken at and the light level recorded in the observation of the object."
   ]
  },
  {
   "cell_type": "code",
   "execution_count": 3,
   "metadata": {
    "collapsed": false
   },
   "outputs": [
    {
     "name": "stdout",
     "output_type": "stream",
     "text": [
      "Observation0(time=16671, light=68.02)\n",
      "time:  16671\n",
      "light: 68.02\n"
     ]
    }
   ],
   "source": [
    "from binaryclassifier import EmulatorMain\n",
    "\n",
    "em = EmulatorMain.EmulatorMain()\n",
    "object1 = em.generateSingleObject(False)\n",
    "print object1[0]\n",
    "print \"time:  \" + str(object1[0][0])\n",
    "print \"light: \" + str(object1[0][1])"
   ]
  }
 ],
 "metadata": {
  "kernelspec": {
   "display_name": "Python 2",
   "language": "python",
   "name": "python2"
  },
  "language_info": {
   "codemirror_mode": {
    "name": "ipython",
    "version": 2
   },
   "file_extension": ".py",
   "mimetype": "text/x-python",
   "name": "python",
   "nbconvert_exporter": "python",
   "pygments_lexer": "ipython2",
   "version": "2.7.12"
  }
 },
 "nbformat": 4,
 "nbformat_minor": 1
}
